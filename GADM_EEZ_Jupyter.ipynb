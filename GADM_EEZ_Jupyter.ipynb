{
 "cells": [
  {
   "cell_type": "code",
   "execution_count": null,
   "metadata": {},
   "outputs": [],
   "source": [
    "import arcpy, os, re, numpy\n",
    "import pandas as pd\n",
    "from numpy.lib import recfunctions\n",
    "\n",
    "# set your own paths\n",
    "\n",
    "\n",
    "# Identify the Countries that have a coastline please note, all countries are in twice as the loop seems to be only working on every second run through\n",
    "Coastal_Countries = [\"ABW\", \"AGO\", \"AIA\", \"ALB\", \"ARE\", \"ARG\", \"ASM\", \"ATA\", \"ATF\", \"ATG\", \"AUS\", \"AZE\", \"BEL\", \"BEN\", \"BES\", \"BGD\", \"BGR\", \"BHR\", \"BHS\", \"BIH\", \"BLM\", \"BLZ\", \"BMU\", \"BRA\", \"BRB\", \"BRN\", \"BVT\", \"CAN\", \"CCK\", \"CHL\", \"CHN\", \"CIV\", \"CMR\", \"COD\", \"COG\", \"COK\", \"COL\", \"COM\", \"CPV\", \"CRI\", \"CUB\", \"CUW\", \"CXR\", \"CYM\", \"CYP\", \"DEU\", \"DJI\", \"DMA\", \"DNK\", \"DOM\", \"DZA\", \"ECU\", \"EGY\", \"ERI\", \"ESH\", \"ESP\", \"EST\", \"FIN\", \"FJI\", \"FLK\", \"FRA\", \"FRO\", \"FSM\", \"GAB\", \"GBR\", \"GEO\", \"GGY\", \"GHA\", \"GIB\", \"GIN\", \"GLP\", \"GMB\", \"GNB\", \"GNQ\", \"GRC\", \"GRD\", \"GTM\", \"GUF\", \"GUM\", \"GUY\", \"HMD\", \"HND\", \"HRV\", \"HTI\", \"IDN\", \"IND\", \"IOT\", \"IRL\", \"IRN\", \"IRQ\", \"ISL\", \"ISR\", \"ITA\", \"JAM\", \"JEY\", \"JOR\", \"JPN\", \"KAZ\", \"KEN\", \"KHM\", \"KIR\", \"KNA\", \"KOR\", \"KWT\", \"LBN\", \"LBR\", \"LBY\", \"LCA\", \"LKA\", \"LTU\", \"LVA\", \"MAF\", \"MAR\", \"MCO\", \"MDG\", \"MDV\", \"MEX\", \"MHL\", \"MLT\", \"MMR\", \"MNE\", \"MNP\", \"MOZ\", \"MRT\", \"MSR\", \"MTQ\", \"MUS\", \"MYS\", \"MYT\", \"NAM\", \"NCL\", \"NFK\", \"NGA\", \"NIC\", \"NIU\", \"NLD\", \"NOR\", \"NRU\", \"NZL\", \"OMN\", \"PAK\", \"PAN\", \"PCN\", \"PER\", \"PHL\", \"PLW\", \"PNG\", \"POL\", \"PRI\", \"PRK\", \"PRT\", \"PSE\", \"PYF\", \"QAT\", \"REU\", \"ROU\", \"RUS\", \"SAU\", \"SDN\", \"SEN\", \"SGP\", \"SGS\", \"SHN\", \"SJM\", \"SLB\", \"SLE\", \"SLV\", \"SOM\", \"SPM\", \"STP\", \"SUR\", \"SVN\", \"SWE\", \"SXM\", \"SYC\", \"SYR\", \"TCA\", \"TGO\", \"THA\", \"TKL\", \"TKM\", \"TLS\", \"TON\", \"TTO\", \"TUN\", \"TUR\", \"TUV\", \"TZA\", \"UKR\", \"UMI\", \"URY\", \"USA\", \"VCT\", \"VEN\", \"VGB\", \"VIR\", \"VNM\", \"VUT\", \"WLF\", \"WSM\", \"YEM\", \"ZAF\", \"GRL\"]\n",
    "# Sort so the countries are in alphabetical order\n",
    "#Coastal_Countries = sorted(Coastal_Countries)\n",
    "\n",
    "\n",
    "Landlocked = [\"AFG\", \"AND\", \"ARM\", \"AUT\", \"BDI\", \"BFA\", \"BLR\", \"BOL\", \"BTN\", \"BWA\", \"CAF\", \"CHE\", \"CZE\", \"ETH\", \"HKG\", \"HUN\", \"KGZ\", \"LAO\", \"LIE\", \"LSO\", \"LUX\", \"MAC\", \"MDA\", \"MKD\", \"MLI\", \"MNG\", \"MWI\", \"NER\", \"NPL\", \"PRY\", \"RWA\", \"SMR\", \"SRB\", \"SSD\", \"SVK\", \"SWZ\", \"TCD\", \"TJK\", \"UGA\", \"UZB\", \"VAT\", \"XPI\", \"XSP\", \"ZMB\", \"ZWE\"]\n",
    "\n",
    "# GADM - XAD -> GBR (Cyprus Military Base)\n",
    "# GADM - XCA -> Deleted(Caspian Sea)\n",
    "# GADM - XCL -> FRA (Clipperton)\n",
    "# GADM - XKO -> SRB (Kosovo)\n",
    "# GADM - XNC -> CYP (North Cyprus)\n",
    "# GADM - XPI Disputed (Parcel Islands)\n",
    "# GADM - XSP  Disputed (Spratly Islands)\n",
    "# GADM - IMN -> GBR\n",
    "# GADM - ALA -> FIN\n",
    "# GADM - TWN -> CHN\n",
    "# GADM - HKG -> CHN\n",
    "# GADM - MAC -> CHN\n",
    "# EEZ - SHN, TAA, ASC -> SHN\n",
    "# EEZ - CPT (Overseas) -> FRA\n",
    "\n",
    "\n",
    "#Set Index\n",
    "#i = 0\n",
    "\n",
    "#Run While Loop to apply the same procedure to each Country\n",
    "#while  i <  len(Coastal_Countries):\n",
    "\n",
    "\n",
    "#This has been left in so that the loop can be converted to a function to run on an individual country\n",
    "def CountryBoundary(i):\n",
    "\n",
    "\t# set these variables and keep if running while loo\n",
    "\t#Country = Coastal_Countries[i]\n",
    "\t#Unhash if using the function\n",
    "\tCountry = i\n",
    "\n",
    "\t#i += 1 #Continue index\n",
    "\tgdb      = r\"C:/Users/OsgurM/Documents/ArcGIS/Projects/GADM_EEZ/GADM_EEZ_Jupyter.gdb\"          #scratch file geodatabase (LOCAL)\n",
    "\toutdir   = r\"C:/Users/OsgurM/Documents/ArcGIS/Projects/GADM_EEZ/Output2\" #Output location\n",
    "\t\n",
    "\tarcpy.env.workspace = gdb\n",
    "\tarcpy.env.overwriteOutput = True\n",
    "\tarcpy.SetLogHistory(True) \n",
    "\tsr_gcs = arcpy.SpatialReference('WGS 1984') \n",
    "\tarcpy.env.outputCoordinateSystem = sr_gcs\n",
    "\tarcpy.env.parallelProcessingFactor = \"100%\"\n",
    "\n",
    "\t# Displays the Country being run\n",
    "\tprint(Country + \",\" + \" started \", str(datetime.datetime.now().time()), str(datetime.datetime.now().date()))\n",
    "\n",
    "#arcpy.management.Delete(gdb)\n",
    "\n",
    "\t# environment\n",
    "\tif not arcpy.Exists(gdb): arcpy.CreateFileGDB_management(os.path.dirname(gdb), os.path.basename(gdb))\n",
    "\n",
    "\tarcpy.MakeFeatureLayer_management(r\"C:\\Users\\osgurm\\Documents\\ArcGIS\\Projects\\GADM_EEZ\\BaseData.gdb\\gadm36\", \"gadm_total\")\n",
    "\n",
    "\tarcpy.MakeFeatureLayer_management(r\"C:\\Users\\osgurm\\Documents\\ArcGIS\\Projects\\GADM_EEZ\\BaseData.gdb\\eez_v10_updated\", \"eez_total\")\n",
    "\n",
    "\tarcpy.env.extent = None\n",
    "\tarcpy.env.workspace = gdb\n",
    "\t\n",
    "\t# Select the EEZ that is primarily associated with the Country\n",
    "\tarcpy.conversion.FeatureClassToFeatureClass(\"eez_total\", gdb, \"eez_imm\", \"ISO_Ter1 LIKE '%s'\" % (Country))\n",
    "\tarcpy.management.RepairGeometry(\"eez_imm\", \"DELETE_NULL\", \"OGC\")\n",
    "\n",
    "\t#Select all EEZ that aren part of this country\n",
    "\tarcpy.env.extent = 'eez_imm'\n",
    "\tarcpy.conversion.FeatureClassToFeatureClass(\"eez_total\", gdb, \"eez_Sur1\", )\n",
    "\tarcpy.env.extent = None\n",
    "\tarcpy.conversion.FeatureClassToFeatureClass(\"eez_Sur1\", gdb,\"eez_Sur\", \"ISO_Ter1 <> '%s' AND ISO_Ter2 <> '%s' AND ISO_Ter3 <> '%s'\" % (Country, Country, Country))\n",
    "\tarcpy.management.RepairGeometry(\"eez_Sur\", \"DELETE_NULL\", \"OGC\")\n",
    "\n",
    "\t#Select the Gadm boundaries for the Country\n",
    "\tarcpy.conversion.FeatureClassToFeatureClass(\"gadm_total\", gdb, \"gadm_Sub\", \"GID_0 LIKE '%s'\" % (Country))\n",
    "\tarcpy.management.RepairGeometry(\"gadm_Sub\", \"DELETE_NULL\", \"OGC\")\n",
    "\n",
    "\tarcpy.analysis.Union(\"eez_imm;gadm_Sub\", \"eez_GADM_Union\"  , \"ALL\", None, \"NO_GAPS\")\n",
    "\tarcpy.management.RepairGeometry(\"eez_GADM_Union\", \"DELETE_NULL\", \"OGC\")\n",
    "\n",
    "\tarcpy.cartography.SimplifyPolygon(\"gadm_Sub\", \"gadm_Sub_SimplifyPolygon\", \"POINT_REMOVE\", \"1 Kilometers\", \"0 Unknown\", \"RESOLVE_ERRORS\", \"NO_KEEP\", None)\n",
    "\tarcpy.management.RepairGeometry(\"gadm_Sub_SimplifyPolygon\", \"DELETE_NULL\", \"OGC\")\n",
    "\n",
    "\t#arcpy.env.extent = 'eez_GADM_Union'\n",
    "\tarcpy.management.SelectLayerByLocation(\"eez_Sur\", \"WITHIN_A_DISTANCE\", \"gadm_Sub_SimplifyPolygon\", \"100 Meters\", \"NEW_SELECTION\", \"NOT_INVERT\")\n",
    "\tarcpy.management.SelectLayerByLocation(\"eez_Sur\", \"WITHIN_A_DISTANCE\", \"eez_imm\", \"100 Meters\", \"ADD_TO_SELECTION\", \"NOT_INVERT\")\n",
    "\tarcpy.conversion.FeatureClassToFeatureClass(\"eez_Sur\", gdb, \"eez_erase\")\n",
    "\tarcpy.management.RepairGeometry(\"eez_erase\", \"DELETE_NULL\", \"OGC\")\n",
    "\tarcpy.management.SelectLayerByAttribute(\"eez_Sur\", \"CLEAR_SELECTION\", '', None)\n",
    "\t#arcpy.env.extent = None\n",
    "\n",
    "\t#arcpy.env.extent = 'gadm_Sub'\n",
    "\tarcpy.management.SelectLayerByLocation(\"gadm_total\", \"WITHIN_A_DISTANCE\", \"gadm_Sub_SimplifyPolygon\", \"100 Meters\", \"NEW_SELECTION\", \"NOT_INVERT\")\n",
    "\tarcpy.conversion.FeatureClassToFeatureClass(\"gadm_total\", gdb, \"GADM_local\")\n",
    "\tarcpy.management.SelectLayerByAttribute(\"gadm_total\", \"CLEAR_SELECTION\", '', None)\n",
    "\tarcpy.management.RepairGeometry(\"GADM_local\", \"DELETE_NULL\", \"OGC\")\n",
    "\t#arcpy.env.extent = None\n",
    "\t\n",
    "\tarcpy.conversion.FeatureClassToFeatureClass(\"GADM_local\", gdb, \"GADM_other\", \"GID_0 <> '%s'\" % (Country))\n",
    "\tarcpy.management.RepairGeometry(\"GADM_other\", \"DELETE_NULL\", \"OGC\")\n",
    "\n",
    "\tarcpy.analysis.PairwiseDissolve(\"GADM_other\", \"GADM_other_Diss\", None, None, \"MULTI_PART\")\t\n",
    "\tarcpy.management.RepairGeometry(\"GADM_other_Diss\", \"DELETE_NULL\", \"OGC\")\n",
    "\n",
    "\t#Dissolve Gadm Layer to identify states\n",
    "\tarcpy.analysis.PairwiseDissolve(\"gadm_Sub\",  \"states\", \"GID_0;NAME_1;HASC_1\", None, \"SINGLE_PART\")\n",
    "\tarcpy.management.RepairGeometry(\"states\", \"DELETE_NULL\", \"OGC\")\n",
    "\n",
    "\t#Create single boundary for country assigned by gadm and buffer to identify any gaps between gadm and EEZ layers\n",
    "\tarcpy.analysis.PairwiseDissolve(\"gadm_Sub\", \"Country_diss\", None, None, \"MULTI_PART\")\n",
    "\tarcpy.management.RepairGeometry(\"Country_diss\", \"DELETE_NULL\", \"OGC\")\n",
    "\n",
    "\tarcpy.analysis.PairwiseDissolve(\"eez_GADM_Union\", \"eez_GADM_Union_Diss\", None, None, \"MULTI_PART\")\n",
    "\tarcpy.management.RepairGeometry(\"eez_GADM_Union_Diss\", \"DELETE_NULL\", \"OGC\")\n",
    "\n",
    "\tarcpy.env.extent = 'eez_GADM_Union'\n",
    "\tarcpy.management.SelectLayerByLocation(\"eez_total;gadm_total\", \"WITHIN_A_DISTANCE\", \"eez_GADM_Union_Diss\", \"1000 Meters\", \"NEW_SELECTION\", \"NOT_INVERT\")\n",
    "\tarcpy.analysis.Union(\"gadm_total;eez_total\", \"Surrounding_Union\", \"ALL\", None, \"NO_GAPS\")\n",
    "\tarcpy.management.RepairGeometry(\"Surrounding_Union\", \"DELETE_NULL\", \"OGC\")\n",
    "\tarcpy.management.SelectLayerByAttribute(\"gadm_total\", \"CLEAR_SELECTION\", '', None)\n",
    "\tarcpy.management.SelectLayerByAttribute(\"eez_total\", \"CLEAR_SELECTION\", '', None)\n",
    "\tarcpy.env.extent = None\n",
    "\n",
    "\n",
    "\t# get slivers, which are land but not identified by gadm, intersect with thiessen so break at junctions\n",
    "\tarcpy.env.extent = 'eez_GADM_Union'\n",
    "\tarcpy.analysis.Union(\"Surrounding_Union ;Country_diss ;eez_imm\", \"Total_Plus_Surrounding\", \"ALL\", None, \"NO_GAPS\")\n",
    "\tarcpy.management.RepairGeometry(\"Total_Plus_Surrounding\", \"DELETE_NULL\", \"OGC\")\n",
    "\tarcpy.analysis.Erase(\"Total_Plus_Surrounding\", \"eez_total\", \"Total_Plus_Surrounding_EEZ_IMM\", \"0 Meters\")\n",
    "\tarcpy.management.RepairGeometry(\"Total_Plus_Surrounding_EEZ_IMM\", \"DELETE_NULL\", \"OGC\")\n",
    "\tarcpy.analysis.Erase(\"Total_Plus_Surrounding_EEZ_IMM\", \"gadm_total\", \"landnotgadm\", \"0 Meters\")\n",
    "\tarcpy.management.RepairGeometry(\"landnotgadm\", \"DELETE_NULL\", \"OGC\")\n",
    "\tarcpy.env.extent = None\n",
    "\n",
    "\t# create theissen polygons used to split slivers by densifying and turning boundary into points\n",
    "\tarcpy.edit.Densify(\"states\", \"DISTANCE\", \"1 Kilometers\")\n",
    "\tarcpy.management.FeatureVerticesToPoints(\"states\", \"states_pts\", \"ALL\")\n",
    "\tarcpy.management.RepairGeometry(\"states_pts\", \"DELETE_NULL\", \"OGC\")\n",
    "\n",
    "\t# delete interior points\n",
    "\tarcpy.management.FeatureToLine(\"Country_diss\", \"Country_diss_FeatureToLine\", None, \"ATTRIBUTES\")\n",
    "\tarcpy.management.RepairGeometry(\"Country_diss_FeatureToLine\", \"DELETE_NULL\", \"OGC\")\n",
    "\tarcpy.analysis.PairwiseIntersect(\"states_pts;Country_diss_FeatureToLine\", \"states_pts_2\", \"ALL\", None, \"POINT\")\n",
    "\tarcpy.management.RepairGeometry(\"states_pts_2\", \"DELETE_NULL\", \"OGC\")\n",
    "\n",
    "\t# generate thiessen polygons of gadm (dissolved to state level) for intersecting with land slivers\n",
    "\tarcpy.env.extent = 'eez_GADM_Union_Diss'\n",
    "\tarcpy.analysis.CreateThiessenPolygons(\"states_pts_2\", \"states_thiessen\", \"ALL\")\n",
    "\tarcpy.management.RepairGeometry(\"states_thiessen\", \"DELETE_NULL\", \"OGC\")\n",
    "\tarcpy.analysis.PairwiseDissolve(\"states_thiessen\", \"theissen_mol\", \"GID_0;NAME_1;HASC_1\", None, \"SINGLE_PART\")\n",
    "\tarcpy.management.RepairGeometry(\"theissen_mol\", \"DELETE_NULL\", \"OGC\")\n",
    "\tarcpy.env.extent = None\n",
    "\n",
    "\t#Assign slivers the county information for which they fall in. Delete slivers identified that are not for the correct country and delete them\n",
    "\tarcpy.management.MultipartToSinglepart(\"landnotgadm\", \"slivers_all\")\n",
    "\tarcpy.management.RepairGeometry(\"slivers_all\", \"DELETE_NULL\", \"OGC\")\n",
    "\tarcpy.analysis.PairwiseIntersect(\"slivers_all #;eez_GADM_Union_Diss #\", \"slivers\", \"ALL\", None, \"INPUT\")\n",
    "\n",
    "\tarcpy.analysis.PairwiseIntersect(\"slivers #;theissen_mol #\", \"slivers_int\", \"ALL\", None, \"INPUT\")\n",
    "\tarcpy.management.RepairGeometry(\"slivers_int\", \"DELETE_NULL\", \"OGC\")\n",
    "\tarcpy.analysis.PairwiseDissolve(\"slivers_int\", \"slivers_PD\", \"GID_01;NAME_12;HASC_12\", None, \"SINGLE_PART\")\n",
    "\tarcpy.management.RepairGeometry(\"slivers_PD\", \"DELETE_NULL\", \"OGC\")\n",
    "\n",
    "\tarcpy.management.AlterField(\"slivers_PD\", \"GID_01\", \"GID_0\", '', \"TEXT\", 5000, \"NULLABLE\", \"DO_NOT_CLEAR\")\n",
    "\tarcpy.management.AlterField(\"slivers_PD\", \"HASC_12\", \"HASC_1\", '', \"TEXT\", 5000, \"NULLABLE\", \"DO_NOT_CLEAR\")\n",
    "\tarcpy.management.AlterField(\"slivers_PD\", \"NAME_12\", \"NAME_1\", '', \"TEXT\", 5000, \"NULLABLE\", \"DO_NOT_CLEAR\")\t\n",
    "\t\t\n",
    "\t#Join the slivers with the states and add field which indicates that it is assigned to land\n",
    "\tarcpy.management.Merge(\"slivers_PD;states\", \"state_slivers\")\n",
    "\tarcpy.management.RepairGeometry(\"state_slivers\", \"DELETE_NULL\", \"OGC\")\n",
    "\tarcpy.analysis.PairwiseDissolve(\"state_slivers\", \"states_mol\", \"GID_0;HASC_1;NAME_1\", None, \"MULTI_PART\")\n",
    "\tarcpy.management.RepairGeometry(\"states_mol\", \"DELETE_NULL\", \"OGC\")\n",
    "\tarcpy.management.AddField(\"states_mol\", \"type\", \"TEXT\", None, None, None, '', \"NULLABLE\", \"NON_REQUIRED\", '')\n",
    "\tarcpy.management.CalculateField(\"states_mol\", \"type\", '\"Land\"', \"PYTHON3\", '')\n",
    "\n",
    "\t# get regions out to eez as full regions offshore and add field that identifies them as EEZ. (Some fields need renaming due to geoprocessing that occured earlier)\n",
    "\tarcpy.analysis.PairwiseIntersect(\"eez_imm #;theissen_mol #\", \"eez_imm_Local\", \"ALL\", None, \"INPUT\")\n",
    "\tarcpy.management.RepairGeometry(\"eez_imm_Local\", \"DELETE_NULL\", \"OGC\")\n",
    "\tarcpy.analysis.PairwiseDissolve(\"eez_imm_Local\", \"eez_imm_Local_PD\", \"GID_0;NAME_1;ISO_Ter1;ISO_Ter2;ISO_Ter3;HASC_1\", None, \"MULTI_PART\")\n",
    "\tarcpy.management.RepairGeometry(\"eez_imm_Local_PD\", \"DELETE_NULL\", \"OGC\")\n",
    "\tarcpy.management.AddField(\"eez_imm_Local_PD\", \"type\", \"TEXT\", None, None, None, '', \"NULLABLE\", \"NON_REQUIRED\", '')\n",
    "\tarcpy.management.CalculateField(\"eez_imm_Local_PD\", \"type\", '\"EEZ\"', \"PYTHON3\", '')\n",
    "\n",
    "\t#Ensure no extra area is included by deleting anything that overlaps with gadm or EEZ that isnt assigned to the country\n",
    "\tarcpy.env.extent = 'eez_GADM_Union'\n",
    "\tarcpy.analysis.PairwiseIntersect(\"states_mol;eez_total\", \"EEZ_Rem\", \"ONLY_FID\", None, \"INPUT\")\n",
    "\tarcpy.management.RepairGeometry(\"EEZ_Rem\", \"DELETE_NULL\", \"OGC\")\n",
    "\tif arcpy.management.GetCount(\"EEZ_Rem\")[0] == \"0\":\n",
    "\t\tarcpy.conversion.FeatureClassToFeatureClass(\"states_mol\", gdb, \"states_mol_Erase\")\n",
    "\t\tarcpy.management.RepairGeometry(\"states_mol_Erase\", \"DELETE_NULL\", \"OGC\")\n",
    "\n",
    "\telse:\n",
    "\t\tarcpy.analysis.Erase(\"states_mol\", \"eez_total\", \"states_mol_Erase\", \"0 Meters\")\n",
    "\t\tarcpy.management.RepairGeometry(\"states_mol_Erase\", \"DELETE_NULL\", \"OGC\")\n",
    "\n",
    "\tarcpy.env.extent = None\n",
    "\t\n",
    "\tarcpy.Merge_management(['states_mol_Erase', 'eez_imm_Local_PD'], '%s/GADM_EEZ_%s.shp' % (outdir, Country))\n",
    "\tarcpy.management.RepairGeometry('%s/GADM_EEZ_%s.shp' % (outdir, Country), \"DELETE_NULL\", \"OGC\")\n",
    "\n",
    "\n",
    "\t#Clean out the File Geodatabase each iteration to keep memory lower\n",
    "\tprint(Country + \",\" + \" finished \", str(datetime.datetime.now().time()), str(datetime.datetime.now().date()))\n",
    "\tarcpy.management.Delete(gdb)\n",
    "\n"
   ]
  },
  {
   "cell_type": "code",
   "execution_count": null,
   "metadata": {},
   "outputs": [],
   "source": [
    "CountryBoundary(\"AGO\")"
   ]
  },
  {
   "cell_type": "code",
   "execution_count": 1,
   "metadata": {},
   "outputs": [],
   "source": [
    "import arcpy, os, re, numpy\n",
    "import pandas as pd\n",
    "from numpy.lib import recfunctions\n",
    "\n",
    "# set your own paths\n",
    "\n",
    "\n",
    "# Identify the Countries that have a coastline please note, all countries are in twice as the loop seems to be only working on every second run through\n",
    "Coastal_Countries = [\"ABW\", \"AGO\", \"AIA\", \"ALB\", \"ARE\", \"ARG\", \"ASM\", \"ATA\", \"ATF\", \"ATG\", \"AUS\", \"AZE\", \"BEL\", \"BEN\", \"BES\", \"BGD\", \"BGR\", \"BHR\", \"BHS\", \"BIH\", \"BLM\", \"BLZ\", \"BMU\", \"BRA\", \"BRB\", \"BRN\", \"BVT\", \"CAN\", \"CCK\", \"CHL\", \"CHN\", \"CIV\", \"CMR\", \"COD\", \"COG\", \"COK\", \"COL\", \"COM\", \"CPV\", \"CRI\", \"CUB\", \"CUW\", \"CXR\", \"CYM\", \"CYP\", \"DEU\", \"DJI\", \"DMA\", \"DNK\", \"DOM\", \"DZA\", \"ECU\", \"EGY\", \"ERI\", \"ESH\", \"ESP\", \"EST\", \"FIN\", \"FJI\", \"FLK\", \"FRA\", \"FRO\", \"FSM\", \"GAB\", \"GBR\", \"GEO\", \"GGY\", \"GHA\", \"GIB\", \"GIN\", \"GLP\", \"GMB\", \"GNB\", \"GNQ\", \"GRC\", \"GRD\", \"GTM\", \"GUF\", \"GUM\", \"GUY\", \"HMD\", \"HND\", \"HRV\", \"HTI\", \"IDN\", \"IND\", \"IOT\", \"IRL\", \"IRN\", \"IRQ\", \"ISL\", \"ISR\", \"ITA\", \"JAM\", \"JEY\", \"JOR\", \"JPN\", \"KAZ\", \"KEN\", \"KHM\", \"KIR\", \"KNA\", \"KOR\", \"KWT\", \"LBN\", \"LBR\", \"LBY\", \"LCA\", \"LKA\", \"LTU\", \"LVA\", \"MAF\", \"MAR\", \"MCO\", \"MDG\", \"MDV\", \"MEX\", \"MHL\", \"MLT\", \"MMR\", \"MNE\", \"MNP\", \"MOZ\", \"MRT\", \"MSR\", \"MTQ\", \"MUS\", \"MYS\", \"MYT\", \"NAM\", \"NCL\", \"NFK\", \"NGA\", \"NIC\", \"NIU\", \"NLD\", \"NOR\", \"NRU\", \"NZL\", \"OMN\", \"PAK\", \"PAN\", \"PCN\", \"PER\", \"PHL\", \"PLW\", \"PNG\", \"POL\", \"PRI\", \"PRK\", \"PRT\", \"PSE\", \"PYF\", \"QAT\", \"REU\", \"ROU\", \"RUS\", \"SAU\", \"SDN\", \"SEN\", \"SGP\", \"SGS\", \"SHN\", \"SJM\", \"SLB\", \"SLE\", \"SLV\", \"SOM\", \"SPM\", \"STP\", \"SUR\", \"SVN\", \"SWE\", \"SXM\", \"SYC\", \"SYR\", \"TCA\", \"TGO\", \"THA\", \"TKL\", \"TKM\", \"TLS\", \"TON\", \"TTO\", \"TUN\", \"TUR\", \"TUV\", \"TZA\", \"UKR\", \"UMI\", \"URY\", \"USA\", \"VCT\", \"VEN\", \"VGB\", \"VIR\", \"VNM\", \"VUT\", \"WLF\", \"WSM\", \"YEM\", \"ZAF\", \"GRL\"]\n",
    "# Sort so the countries are in alphabetical order\n",
    "#Coastal_Countries = sorted(Coastal_Countries)\n",
    "\n",
    "\n",
    "Landlocked = [\"AFG\", \"AND\", \"ARM\", \"AUT\", \"BDI\", \"BFA\", \"BLR\", \"BOL\", \"BTN\", \"BWA\", \"CAF\", \"CHE\", \"CZE\", \"ETH\", \"HKG\", \"HUN\", \"KGZ\", \"LAO\", \"LIE\", \"LSO\", \"LUX\", \"MAC\", \"MDA\", \"MKD\", \"MLI\", \"MNG\", \"MWI\", \"NER\", \"NPL\", \"PRY\", \"RWA\", \"SMR\", \"SRB\", \"SSD\", \"SVK\", \"SWZ\", \"TCD\", \"TJK\", \"UGA\", \"UZB\", \"VAT\", \"XPI\", \"XSP\", \"ZMB\", \"ZWE\"]\n",
    "\n",
    "# GADM - XAD -> GBR (Cyprus Military Base)\n",
    "# GADM - XCA -> Deleted(Caspian Sea)\n",
    "# GADM - XCL -> FRA (Clipperton)\n",
    "# GADM - XKO -> SRB (Kosovo)\n",
    "# GADM - XNC -> CYP (North Cyprus)\n",
    "# GADM - XPI Disputed (Parcel Islands)\n",
    "# GADM - XSP  Disputed (Spratly Islands)\n",
    "# GADM - IMN -> GBR\n",
    "# GADM - ALA -> FIN\n",
    "# GADM - TWN -> CHN\n",
    "# GADM - HKG -> CHN\n",
    "# GADM - MAC -> CHN\n",
    "# EEZ - SHN, TAA, ASC -> SHN\n",
    "# EEZ - CPT (Overseas) -> FRA\n",
    "\n",
    "\n",
    "#Set Index\n",
    "#i = 0\n",
    "\n",
    "#Run While Loop to apply the same procedure to each Country\n",
    "#while  i <  len(Coastal_Countries):\n"
   ]
  },
  {
   "cell_type": "code",
   "execution_count": 2,
   "metadata": {},
   "outputs": [],
   "source": [
    "Country = \"IRL\"\n",
    "gdb      = r\"C:/Users/OsgurM/Documents/ArcGIS/Projects/GADM_EEZ/GADM_EEZ_Jupyter.gdb\"          #scratch file geodatabase (LOCAL)\n",
    "outdir   = r\"C:/Users/OsgurM/Documents/ArcGIS/Projects/GADM_EEZ/Output2\" #Output location\n",
    "\n",
    "arcpy.management.Delete(gdb)\n",
    "\n",
    "if not arcpy.Exists(gdb): arcpy.CreateFileGDB_management(os.path.dirname(gdb), os.path.basename(gdb))\n",
    "    \n",
    "arcpy.MakeFeatureLayer_management(r\"O:\\00_data\\001_AdministrativeUnits\\GADM-001-GlobalAdministrativeAreas\\gadm36_shp\\gadm36.shp\", \"gadm_total\")\n",
    "\n",
    "arcpy.MakeFeatureLayer_management(r\"O:\\00_data\\001_AdministrativeUnits\\VLIZ-001-MaritimeBoundariesInclEEZ\\v11_2019\\eez_v11.shp\", \"eez_total\")\n",
    "\n",
    "\n",
    "arcpy.env.workspace = gdb\n",
    "arcpy.env.overwriteOutput = True\n",
    "arcpy.SetLogHistory(True) \n",
    "sr_gcs = arcpy.SpatialReference('WGS 1984') \n",
    "arcpy.env.outputCoordinateSystem = sr_gcs\n",
    "arcpy.env.parallelProcessingFactor = \"100%\""
   ]
  },
  {
   "cell_type": "code",
   "execution_count": 3,
   "metadata": {},
   "outputs": [
    {
     "data": {
      "text/plain": [
       "<Result 'C:/Users/osgurm/Documents/ArcGIS/Projects/GADM_EEZ/GADM_EEZ_Jupyter.gdb\\\\eez_imm'>"
      ]
     },
     "execution_count": 3,
     "metadata": {},
     "output_type": "execute_result"
    }
   ],
   "source": [
    "arcpy.conversion.FeatureClassToFeatureClass(\"eez_total\", gdb, \"eez_imm\", \"ISO_Ter1 LIKE '%s'\" % (Country))\n",
    "arcpy.management.RepairGeometry(\"eez_imm\", \"DELETE_NULL\", \"OGC\")\n"
   ]
  },
  {
   "cell_type": "code",
   "execution_count": 4,
   "metadata": {},
   "outputs": [
    {
     "data": {
      "text/plain": [
       "<Result 'C:/Users/osgurm/Documents/ArcGIS/Projects/GADM_EEZ/GADM_EEZ_Jupyter.gdb\\\\eez_Sur'>"
      ]
     },
     "execution_count": 4,
     "metadata": {},
     "output_type": "execute_result"
    }
   ],
   "source": [
    "#Select all EEZ that aren part of this country\n",
    "arcpy.env.extent = 'eez_imm'\n",
    "arcpy.conversion.FeatureClassToFeatureClass(\"eez_total\", gdb, \"eez_Sur1\", )\n",
    "arcpy.env.extent = None\n",
    "arcpy.conversion.FeatureClassToFeatureClass(\"eez_Sur1\", gdb,\"eez_Sur\", \"ISO_Ter1 <> '%s' AND ISO_Ter2 <> '%s' AND ISO_Ter3 <> '%s'\" % (Country, Country, Country))\n",
    "arcpy.management.RepairGeometry(\"eez_Sur\", \"DELETE_NULL\", \"OGC\")\n"
   ]
  },
  {
   "cell_type": "code",
   "execution_count": 5,
   "metadata": {},
   "outputs": [
    {
     "data": {
      "text/plain": [
       "<Result 'C:/Users/osgurm/Documents/ArcGIS/Projects/GADM_EEZ/GADM_EEZ_Jupyter.gdb\\\\gadm_Sub'>"
      ]
     },
     "execution_count": 5,
     "metadata": {},
     "output_type": "execute_result"
    }
   ],
   "source": [
    "#Select the Gadm boundaries for the Country\n",
    "arcpy.conversion.FeatureClassToFeatureClass(\"gadm_total\", gdb, \"gadm_Sub\", \"GID_0 LIKE '%s'\" % (Country))\n",
    "arcpy.management.RepairGeometry(\"gadm_Sub\", \"DELETE_NULL\", \"OGC\")"
   ]
  },
  {
   "cell_type": "code",
   "execution_count": 6,
   "metadata": {},
   "outputs": [
    {
     "data": {
      "text/plain": [
       "<Result 'C:/Users/osgurm/Documents/ArcGIS/Projects/GADM_EEZ/GADM_EEZ_Jupyter.gdb\\\\eez_GADM_Union'>"
      ]
     },
     "execution_count": 6,
     "metadata": {},
     "output_type": "execute_result"
    }
   ],
   "source": [
    "arcpy.analysis.Union(\"eez_imm;gadm_Sub\", \"eez_GADM_Union\"  , \"ALL\", None, \"NO_GAPS\")\n",
    "arcpy.management.RepairGeometry(\"eez_GADM_Union\", \"DELETE_NULL\", \"OGC\")"
   ]
  },
  {
   "cell_type": "code",
   "execution_count": 7,
   "metadata": {},
   "outputs": [
    {
     "data": {
      "text/plain": [
       "<Result 'C:/Users/osgurm/Documents/ArcGIS/Projects/GADM_EEZ/GADM_EEZ_Jupyter.gdb\\\\gadm_Sub_SimplifyPolygon'>"
      ]
     },
     "execution_count": 7,
     "metadata": {},
     "output_type": "execute_result"
    }
   ],
   "source": [
    "arcpy.cartography.SimplifyPolygon(\"gadm_Sub\", \"gadm_Sub_SimplifyPolygon\", \"POINT_REMOVE\", \"1 Kilometers\", \"0 Unknown\", \"RESOLVE_ERRORS\", \"NO_KEEP\", None)\n",
    "arcpy.management.RepairGeometry(\"gadm_Sub_SimplifyPolygon\", \"DELETE_NULL\", \"OGC\")"
   ]
  },
  {
   "cell_type": "code",
   "execution_count": 8,
   "metadata": {},
   "outputs": [
    {
     "data": {
      "text/plain": [
       "<Result 'eez_Sur_Layer8'>"
      ]
     },
     "execution_count": 8,
     "metadata": {},
     "output_type": "execute_result"
    }
   ],
   "source": [
    "arcpy.management.SelectLayerByLocation(\"eez_Sur\", \"WITHIN_A_DISTANCE\", \"gadm_Sub_SimplifyPolygon\", \"100 Meters\", \"NEW_SELECTION\", \"NOT_INVERT\")\n",
    "arcpy.management.SelectLayerByLocation(\"eez_Sur\", \"WITHIN_A_DISTANCE\", \"eez_imm\", \"100 Meters\", \"ADD_TO_SELECTION\", \"NOT_INVERT\")\n",
    "arcpy.conversion.FeatureClassToFeatureClass(\"eez_Sur\", gdb, \"eez_erase\")\n",
    "arcpy.management.RepairGeometry(\"eez_erase\", \"DELETE_NULL\", \"OGC\")\n",
    "arcpy.management.SelectLayerByAttribute(\"eez_Sur\", \"CLEAR_SELECTION\", '', None)"
   ]
  },
  {
   "cell_type": "code",
   "execution_count": 9,
   "metadata": {},
   "outputs": [],
   "source": [
    "arcpy.management.MinimumBoundingGeometry(\"eez_GADM_Union\", \"bounding\", \"ENVELOPE\", \"ALL\", None, \"NO_MBG_FIELDS\")\n",
    "arcpy.env.extent = 'bounding'\n",
    "arcpy.analysis.Select(\"gadm_total\", \"gadm_local\", '')\n",
    "arcpy.env.extent = None"
   ]
  },
  {
   "cell_type": "code",
   "execution_count": 10,
   "metadata": {},
   "outputs": [
    {
     "data": {
      "text/plain": [
       "<Result 'C:/Users/osgurm/Documents/ArcGIS/Projects/GADM_EEZ/GADM_EEZ_Jupyter.gdb\\\\GADM_other'>"
      ]
     },
     "execution_count": 10,
     "metadata": {},
     "output_type": "execute_result"
    }
   ],
   "source": [
    "arcpy.analysis.Select(\"GADM_local\", \"GADM_other\", \"GID_0 <> '%s'\" % (Country))\n",
    "arcpy.management.RepairGeometry(\"GADM_other\", \"DELETE_NULL\", \"OGC\")"
   ]
  },
  {
   "cell_type": "code",
   "execution_count": 11,
   "metadata": {},
   "outputs": [
    {
     "data": {
      "text/plain": [
       "<Result 'C:/Users/osgurm/Documents/ArcGIS/Projects/GADM_EEZ/GADM_EEZ_Jupyter.gdb\\\\states'>"
      ]
     },
     "execution_count": 11,
     "metadata": {},
     "output_type": "execute_result"
    }
   ],
   "source": [
    "#Dissolve Gadm Layer to identify states\n",
    "arcpy.analysis.PairwiseDissolve(\"gadm_Sub\",  \"states\",\"GID_0;NAME_1;HASC_1\" , None, \"SINGLE_PART\")\n",
    "arcpy.management.RepairGeometry(\"states\", \"DELETE_NULL\", \"OGC\")"
   ]
  },
  {
   "cell_type": "code",
   "execution_count": 12,
   "metadata": {},
   "outputs": [
    {
     "data": {
      "text/plain": [
       "<Result 'C:/Users/osgurm/Documents/ArcGIS/Projects/GADM_EEZ/GADM_EEZ_Jupyter.gdb\\\\Country_diss'>"
      ]
     },
     "execution_count": 12,
     "metadata": {},
     "output_type": "execute_result"
    }
   ],
   "source": [
    "arcpy.analysis.PairwiseDissolve(\"gadm_Sub\",  \"Country_diss\",\"\" , None, \"SINGLE_PART\")"
   ]
  },
  {
   "cell_type": "code",
   "execution_count": 13,
   "metadata": {},
   "outputs": [
    {
     "data": {
      "text/plain": [
       "<Result 'C:/Users/osgurm/Documents/ArcGIS/Projects/GADM_EEZ/GADM_EEZ_Jupyter.gdb\\\\Surrounding_Union'>"
      ]
     },
     "execution_count": 13,
     "metadata": {},
     "output_type": "execute_result"
    }
   ],
   "source": [
    "arcpy.env.extent = 'eez_GADM_Union'\n",
    "arcpy.management.SelectLayerByLocation(\"eez_total;gadm_total\", \"WITHIN_A_DISTANCE\", \"eez_GADM_Union\", \"1000 Meters\", \"NEW_SELECTION\", \"NOT_INVERT\")\n",
    "arcpy.analysis.Union(\"gadm_total;eez_total\", \"Surrounding_Union\", \"ALL\", None, \"NO_GAPS\")"
   ]
  },
  {
   "cell_type": "code",
   "execution_count": 14,
   "metadata": {},
   "outputs": [],
   "source": [
    "# get slivers, which are land but not identified by gadm, intersect with thiessen so break at junctions\n",
    "arcpy.env.extent = 'eez_GADM_Union'\n",
    "arcpy.management.RepairGeometry(\"Surrounding_Union\", \"DELETE_NULL\", \"OGC\")\n",
    "arcpy.analysis.Erase(\"Surrounding_Union\", \"eez_total\", \"Total_Plus_Surrounding_EEZ_IMM\", \"0 Meters\")\n",
    "arcpy.management.RepairGeometry(\"Total_Plus_Surrounding_EEZ_IMM\", \"DELETE_NULL\", \"OGC\")\n",
    "arcpy.analysis.Erase(\"Total_Plus_Surrounding_EEZ_IMM\", \"gadm_total\", \"landnotgadm\", \"0 Meters\")\n",
    "arcpy.management.RepairGeometry(\"landnotgadm\", \"DELETE_NULL\", \"OGC\")\n",
    "arcpy.env.extent = None"
   ]
  },
  {
   "cell_type": "code",
   "execution_count": 15,
   "metadata": {},
   "outputs": [
    {
     "data": {
      "text/plain": [
       "<Result 'C:/Users/osgurm/Documents/ArcGIS/Projects/GADM_EEZ/GADM_EEZ_Jupyter.gdb\\\\states_pts'>"
      ]
     },
     "execution_count": 15,
     "metadata": {},
     "output_type": "execute_result"
    }
   ],
   "source": [
    "# create theissen polygons used to split slivers by densifying and turning boundary into points\n",
    "arcpy.edit.Densify(\"states\", \"DISTANCE\", \"1 Kilometers\")\n",
    "arcpy.management.FeatureVerticesToPoints(\"states\", \"states_pts\", \"ALL\")\n",
    "arcpy.management.RepairGeometry(\"states_pts\", \"DELETE_NULL\", \"OGC\")"
   ]
  },
  {
   "cell_type": "code",
   "execution_count": 16,
   "metadata": {},
   "outputs": [
    {
     "data": {
      "text/plain": [
       "<Result 'C:/Users/osgurm/Documents/ArcGIS/Projects/GADM_EEZ/GADM_EEZ_Jupyter.gdb\\\\states_pts_2'>"
      ]
     },
     "execution_count": 16,
     "metadata": {},
     "output_type": "execute_result"
    }
   ],
   "source": [
    "# delete interior points\n",
    "arcpy.management.FeatureToLine(\"Country_diss\", \"Country_diss_FeatureToLine\", None, \"ATTRIBUTES\")\n",
    "arcpy.management.RepairGeometry(\"Country_diss_FeatureToLine\", \"DELETE_NULL\", \"OGC\")\n",
    "arcpy.analysis.PairwiseIntersect(\"states_pts;Country_diss_FeatureToLine\", \"states_pts_2\", \"ALL\", None, \"POINT\")\n",
    "arcpy.management.RepairGeometry(\"states_pts_2\", \"DELETE_NULL\", \"OGC\")"
   ]
  },
  {
   "cell_type": "code",
   "execution_count": 17,
   "metadata": {},
   "outputs": [],
   "source": [
    "# generate thiessen polygons of gadm (dissolved to state level) for intersecting with land slivers\n",
    "arcpy.env.extent = 'bounding'\n",
    "arcpy.analysis.CreateThiessenPolygons(\"states_pts_2\", \"states_thiessen\", \"ALL\")\n",
    "arcpy.management.RepairGeometry(\"states_thiessen\", \"DELETE_NULL\", \"OGC\")\n",
    "arcpy.analysis.PairwiseDissolve(\"states_thiessen\", \"theissen_mol\", \"GID_0;NAME_1;HASC_1\", None, \"SINGLE_PART\")\n",
    "arcpy.management.RepairGeometry(\"theissen_mol\", \"DELETE_NULL\", \"OGC\")\n",
    "arcpy.env.extent = None"
   ]
  },
  {
   "cell_type": "code",
   "execution_count": null,
   "metadata": {},
   "outputs": [],
   "source": [
    "arcpy.management.MultipartToSinglepart(\"landnotgadm\", \"slivers_all\")\n",
    "arcpy.management.RepairGeometry(\"slivers_all\", \"DELETE_NULL\", \"OGC\")\n",
    "arcpy.management.Dice(\"slivers_all\", \"slivers_all_Dice\", 10)\n",
    "arcpy.analysis.PairwiseIntersect(\"slivers_all_Dice;gadm_Sub\", \"slivers_all_Sub\", \"ONLY_FID\", None, \"LINE\")\n",
    "arcpy.analysis.PairwiseIntersect(\"slivers_all_Dice;GADM_other\", \"slivers_all_other\", \"ONLY_FID\", None, \"LINE\")\n",
    "\n",
    "\n",
    "arcpy.management.CalculateGeometryAttributes(\"slivers_all_other\", \"Shape_Length LENGTH_GEODESIC\", \"METERS\", '', \"PROJCS['World_Mollweide',GEOGCS['GCS_WGS_1984',DATUM['D_WGS_1984',SPHEROID['WGS_1984',6378137.0,298.257223563]],PRIMEM['Greenwich',0.0],UNIT['Degree',0.0174532925199433]],PROJECTION['Mollweide'],PARAMETER['False_Easting',0.0],PARAMETER['False_Northing',0.0],PARAMETER['Central_Meridian',0.0],UNIT['Meter',1.0]]\", \"SAME_AS_INPUT\")\n",
    "arcpy.management.CalculateGeometryAttributes(\"slivers_all_Sub\", \"Shape_Length LENGTH_GEODESIC\", \"METERS\", '', \"PROJCS['World_Mollweide',GEOGCS['GCS_WGS_1984',DATUM['D_WGS_1984',SPHEROID['WGS_1984',6378137.0,298.257223563]],PRIMEM['Greenwich',0.0],UNIT['Degree',0.0174532925199433]],PROJECTION['Mollweide'],PARAMETER['False_Easting',0.0],PARAMETER['False_Northing',0.0],PARAMETER['Central_Meridian',0.0],UNIT['Meter',1.0]]\", \"SAME_AS_INPUT\")\n",
    "arcpy.management.AlterField(\"slivers_all_other\", \"Shape_Length\", '', \"other_length\", \"DOUBLE\", 8, \"NULLABLE\", \"DO_NOT_CLEAR\")\n",
    "arcpy.management.AlterField(\"slivers_all_Sub\", \"Shape_Length\", '', \"sub_length\", \"DOUBLE\", 8, \"NULLABLE\", \"DO_NOT_CLEAR\")\n",
    "arcpy.management.JoinField(\"slivers_all_Dice\", \"OBJECTID\", \"slivers_all_Sub\", \"FID_slivers_all_Dice\", \"Shape_Length\")\n",
    "arcpy.management.JoinField(\"slivers_all_Dice\", \"OBJECTID\", \"slivers_all_other\", \"FID_slivers_all_Dice\", \"Shape_Length\")\n"
   ]
  },
  {
   "cell_type": "code",
   "execution_count": null,
   "metadata": {},
   "outputs": [],
   "source": [
    "codeblock= \"\"\"\n",
    "def updateValue(value): \n",
    "    if value == None: \n",
    "        return '0' \n",
    "    else: \n",
    "        return value\"\"\"\n",
    "\n",
    "sub_Expr = \"updateValue(!Shape_Length_1!)\"\n",
    "arcpy.management.CalculateField(\"slivers_all_Dice\", \"sub_len\",sub_Expr, \"PYTHON3\",codeblock)\n",
    "   \n",
    "other_expr = \"updateValue(!Shape_Length_12!)\"    \n",
    "arcpy.management.CalculateField(\"slivers_all_Dice\", \"other_len\",other_expr , \"PYTHON3\", codeblock)\n",
    "        "
   ]
  },
  {
   "cell_type": "code",
   "execution_count": null,
   "metadata": {},
   "outputs": [],
   "source": [
    "arcpy.management.SelectLayerByAttribute(\"slivers_all_Dice\", \"NEW_SELECTION\", \"other_len < sub_len\", None)\n",
    "arcpy.management.SelectLayerByAttribute(\"slivers_all_Dice\", \"REMOVE_FROM_SELECTION\", \"sub_len = '0' And other_len = '0'\", None)\n",
    "arcpy.analysis.Select(\"slivers_all_Dice\", \"slivers_all_Dice_rem\", '')\n",
    "arcpy.analysis.PairwiseDissolve(\"slivers_all_Dice_rem\", \"slivers\",\"\", None, \"SINGLE_PART\")\n"
   ]
  },
  {
   "cell_type": "code",
   "execution_count": null,
   "metadata": {},
   "outputs": [],
   "source": [
    "#Selection1 = arcpy.management.SelectLayerByLocation(\"slivers_all_Dice\", \"WITHIN_A_DISTANCE\", \"eez_imm\", \"1 Meters\", \"NEW_SELECTION\", \"NOT_INVERT\")\n",
    "#arcpy.CopyFeatures_management(Selection1, \"Selection1\")\n",
    "#Selection2 =arcpy.management.SelectLayerByLocation(\"Selection1\", \"WITHIN_A_DISTANCE\", \"GADM_other\", \"0.1 Meters\", \"NEW_SELECTION\", \"INVERT\")\n",
    "#arcpy.CopyFeatures_management(Selection2, \"Selection2\")\n",
    "#Selection3 =arcpy.management.SelectLayerByLocation(\"Selection2\", \"WITHIN_A_DISTANCE\", \"gadm_Sub\", \"0.1 Meters\", \"NEW_SELECTION\", \"NOT_INVERT\")\n",
    "#arcpy.CopyFeatures_management(Selection3, \"slivers\")\n"
   ]
  },
  {
   "cell_type": "code",
   "execution_count": null,
   "metadata": {},
   "outputs": [],
   "source": [
    "arcpy.analysis.PairwiseIntersect(\"slivers #;theissen_mol #\", \"slivers_int\", \"ALL\", None, \"INPUT\")\n",
    "arcpy.analysis.PairwiseDissolve(\"slivers_int\", \"slivers_PD\", \"GID_0;NAME_12;HASC_12\", None, \"SINGLE_PART\")\n",
    "arcpy.management.RepairGeometry(\"slivers_PD\", \"DELETE_NULL\", \"OGC\")"
   ]
  },
  {
   "cell_type": "code",
   "execution_count": null,
   "metadata": {},
   "outputs": [],
   "source": [
    "arcpy.management.AlterField(\"slivers_PD\", \"GID_01\", \"GID_0\", '', \"TEXT\", 5000, \"NULLABLE\", \"DO_NOT_CLEAR\")\n",
    "arcpy.management.AlterField(\"slivers_PD\", \"HASC_12\", \"HASC_1\", '', \"TEXT\", 5000, \"NULLABLE\", \"DO_NOT_CLEAR\")\n",
    "arcpy.management.AlterField(\"slivers_PD\", \"NAME_12\", \"NAME_1\", '', \"TEXT\", 5000, \"NULLABLE\", \"DO_NOT_CLEAR\")"
   ]
  },
  {
   "cell_type": "code",
   "execution_count": null,
   "metadata": {},
   "outputs": [],
   "source": [
    "#Join the slivers with the states and add field which indicates that it is assigned to land\n",
    "arcpy.management.Merge(\"slivers_PD;states\", \"state_slivers\")\n",
    "arcpy.management.RepairGeometry(\"state_slivers\", \"DELETE_NULL\", \"OGC\")\n",
    "arcpy.analysis.PairwiseDissolve(\"state_slivers\", \"states_mol\", \"GID_0;HASC_1;NAME_1\", None, \"MULTI_PART\")\n",
    "arcpy.management.RepairGeometry(\"states_mol\", \"DELETE_NULL\", \"OGC\")\n",
    "arcpy.management.AddField(\"states_mol\", \"type\", \"TEXT\", None, None, None, '', \"NULLABLE\", \"NON_REQUIRED\", '')\n",
    "arcpy.management.CalculateField(\"states_mol\", \"type\", '\"Land\"', \"PYTHON3\", '')"
   ]
  },
  {
   "cell_type": "code",
   "execution_count": null,
   "metadata": {},
   "outputs": [],
   "source": [
    "# get regions out to eez as full regions offshore and add field that identifies them as EEZ. (Some fields need renaming due to geoprocessing that occured earlier)\n",
    "arcpy.analysis.PairwiseIntersect(\"eez_imm #;theissen_mol #\", \"eez_imm_Local\", \"ALL\", None, \"INPUT\")\n",
    "arcpy.management.RepairGeometry(\"eez_imm_Local\", \"DELETE_NULL\", \"OGC\")\n",
    "arcpy.analysis.PairwiseDissolve(\"eez_imm_Local\", \"eez_imm_Local_PD\", \"GID_0;NAME_1;ISO_Ter1;ISO_Ter2;ISO_Ter3;HASC_1\", None, \"MULTI_PART\")\n",
    "arcpy.management.RepairGeometry(\"eez_imm_Local_PD\", \"DELETE_NULL\", \"OGC\")\n",
    "arcpy.management.AddField(\"eez_imm_Local_PD\", \"type\", \"TEXT\", None, None, None, '', \"NULLABLE\", \"NON_REQUIRED\", '')\n",
    "arcpy.management.CalculateField(\"eez_imm_Local_PD\", \"type\", '\"EEZ\"', \"PYTHON3\", '')"
   ]
  },
  {
   "cell_type": "code",
   "execution_count": null,
   "metadata": {},
   "outputs": [],
   "source": [
    "#Ensure no extra area is included by deleting anything that overlaps with gadm or EEZ that isnt assigned to the country\n",
    "arcpy.env.extent = 'eez_GADM_Union'\n",
    "arcpy.analysis.PairwiseIntersect(\"states_mol;eez_total\", \"EEZ_Rem\", \"ONLY_FID\", None, \"INPUT\")\n",
    "arcpy.management.RepairGeometry(\"EEZ_Rem\", \"DELETE_NULL\", \"OGC\")\n",
    "if arcpy.management.GetCount(\"EEZ_Rem\")[0] == \"0\":\n",
    "    arcpy.conversion.FeatureClassToFeatureClass(\"states_mol\", gdb, \"states_mol_Erase\")\n",
    "    arcpy.management.RepairGeometry(\"states_mol_Erase\", \"DELETE_NULL\", \"OGC\")\n",
    "\n",
    "else:\n",
    "    arcpy.analysis.Erase(\"states_mol\", \"eez_total\", \"states_mol_Erase\", \"0 Meters\")\n",
    "    arcpy.management.RepairGeometry(\"states_mol_Erase\", \"DELETE_NULL\", \"OGC\")\n",
    "\n",
    "arcpy.env.extent = None\n",
    "arcpy.Merge_management(['states_mol_Erase', 'eez_imm_Local_PD'], '%s/GADM_EEZ_%s.shp' % (outdir, Country))\n",
    "arcpy.management.RepairGeometry('%s/GADM_EEZ_%s.shp' % (outdir, Country), \"DELETE_NULL\", \"OGC\")"
   ]
  },
  {
   "cell_type": "code",
   "execution_count": null,
   "metadata": {},
   "outputs": [],
   "source": [
    "arcpy.management.Delete(gdb)"
   ]
  },
  {
   "cell_type": "code",
   "execution_count": null,
   "metadata": {},
   "outputs": [],
   "source": []
  }
 ],
 "metadata": {
  "kernelspec": {
   "display_name": "Python 3",
   "language": "python",
   "name": "python3"
  },
  "language_info": {
   "codemirror_mode": {
    "name": "ipython",
    "version": 3
   },
   "file_extension": ".py",
   "mimetype": "text/x-python",
   "name": "python",
   "nbconvert_exporter": "python",
   "pygments_lexer": "ipython3",
   "version": "3.6.9"
  }
 },
 "nbformat": 4,
 "nbformat_minor": 2
}
